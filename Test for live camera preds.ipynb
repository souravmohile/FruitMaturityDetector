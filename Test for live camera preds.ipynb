{
 "cells": [
  {
   "cell_type": "code",
   "execution_count": 1,
   "id": "1a483b8b",
   "metadata": {},
   "outputs": [
    {
     "name": "stderr",
     "output_type": "stream",
     "text": [
      "2023-04-01 01:21:56.950728: I tensorflow/core/platform/cpu_feature_guard.cc:193] This TensorFlow binary is optimized with oneAPI Deep Neural Network Library (oneDNN) to use the following CPU instructions in performance-critical operations:  AVX2 FMA\n",
      "To enable them in other operations, rebuild TensorFlow with the appropriate compiler flags.\n"
     ]
    }
   ],
   "source": [
    "from PIL import Image, ImageOps\n",
    "from keras import premade_models\n",
    "from keras.models import load_model\n",
    "import numpy as np\n",
    "import cv2"
   ]
  },
  {
   "cell_type": "code",
   "execution_count": 2,
   "id": "aad02dae",
   "metadata": {},
   "outputs": [],
   "source": [
    "def model_predict(img_path):\n",
    "    np.set_printoptions(suppress=True)\n",
    "    data = np.ndarray(shape=(1, 224, 224, 3), dtype=np.float32)\n",
    "    image = Image.open(img_path)\n",
    "    size = (224, 224)\n",
    "    image = ImageOps.fit(image, size, Image.Resampling.LANCZOS)\n",
    "\n",
    "    image_array = np.asarray(image)\n",
    "    normalized_image_array = (image_array.astype(np.float32) / 127.0) - 1\n",
    "    data[0] = normalized_image_array\n",
    "    \n",
    "    model = load_model('Models/PleaseWork2.h5')\n",
    "    \n",
    "    preds = \"\"\n",
    "    prediction = model.predict(data)\n",
    "    if np.argmax(prediction)==0:\n",
    "        preds = f\"Apple Overripe\"\n",
    "    elif np.argmax(prediction)==1:\n",
    "        preds = f\"Apple Ripe\"\n",
    "    elif np.argmax(prediction)==2:\n",
    "        preds = f\"Apple Unripe\"\n",
    "    elif np.argmax(prediction)==3:\n",
    "        preds = f\"Banana Overripe\"\n",
    "    elif np.argmax(prediction)==4:\n",
    "        preds = f\"Banana Ripe\"\n",
    "    elif np.argmax(prediction)==5:\n",
    "        preds = f\"Banana Unripe\"\n",
    "    elif np.argmax(prediction)==6:\n",
    "        preds = f\"Orange Overripe\"\n",
    "    elif np.argmax(prediction)==7:\n",
    "        preds = f\"Orange Ripe\"\n",
    "    elif np.argmax(prediction)==8:\n",
    "        preds = f\"Orange Unripe\"\n",
    "    elif np.argmax(prediction)==9:\n",
    "        preds = f\"Raspberry Overripe\"\n",
    "    elif np.argmax(prediction)==10:\n",
    "        preds = f\"Raspberry Ripe\"\n",
    "    elif np.argmax(prediction)==11:\n",
    "        preds = f\"Raspberry Unripe\"\n",
    "    elif np.argmax(prediction)==12:\n",
    "        preds = f\"Strawberry Overripe\"\n",
    "    elif np.argmax(prediction)==13:\n",
    "        preds = f\"Strawberry Ripe\"\n",
    "    else :\n",
    "        preds = f\"Strawberry Unripe\"\n",
    "\n",
    "    return preds"
   ]
  },
  {
   "cell_type": "code",
   "execution_count": 4,
   "id": "d7b27950",
   "metadata": {},
   "outputs": [
    {
     "name": "stderr",
     "output_type": "stream",
     "text": [
      "2023-04-01 09:21:22.843885: I tensorflow/core/platform/cpu_feature_guard.cc:193] This TensorFlow binary is optimized with oneAPI Deep Neural Network Library (oneDNN) to use the following CPU instructions in performance-critical operations:  AVX2 FMA\n",
      "To enable them in other operations, rebuild TensorFlow with the appropriate compiler flags.\n"
     ]
    }
   ],
   "source": [
    "model = load_model('Models/PleaseWork2.h5')\n",
    "font = cv2.FONT_HERSHEY_SIMPLEX\n",
    "\n",
    "class VideoCamera(object):\n",
    "    def __init__(self):\n",
    "        self.video = cv2.VideoCapture(0)\n",
    "\n",
    "    def __del__(self):\n",
    "        self.video.release()\n",
    "\n",
    "    # returns camera frames along with bounding boxes and predictions\n",
    "    def get_frame(self):\n",
    "        _, fr = self.video.read()\n",
    "        gray_fr = cv2.cvtColor(fr, cv2.COLOR_BGR2GRAY)\n",
    "        faces = facec.detectMultiScale(gray_fr, 1.3, 5)\n",
    "\n",
    "        for (x, y, w, h) in faces:\n",
    "            fc = gray_fr[y:y+h, x:x+w]\n",
    "\n",
    "            roi = cv2.resize(fc, (48, 48))\n",
    "            pred = model_predict(roi[np.newaxis, :, :, np.newaxis])\n",
    "\n",
    "            cv2.putText(fr, pred, (x, y), font, 1, (255, 255, 0), 2)\n",
    "            cv2.rectangle(fr,(x,y),(x+w,y+h),(255,0,0),2)\n",
    "\n",
    "        _, jpeg = cv2.imencode('.jpg', fr)\n",
    "        return jpeg.tobytes()"
   ]
  },
  {
   "cell_type": "code",
   "execution_count": null,
   "id": "c03525f7",
   "metadata": {},
   "outputs": [],
   "source": []
  }
 ],
 "metadata": {
  "kernelspec": {
   "display_name": "Python 3 (ipykernel)",
   "language": "python",
   "name": "python3"
  },
  "language_info": {
   "codemirror_mode": {
    "name": "ipython",
    "version": 3
   },
   "file_extension": ".py",
   "mimetype": "text/x-python",
   "name": "python",
   "nbconvert_exporter": "python",
   "pygments_lexer": "ipython3",
   "version": "3.9.12"
  }
 },
 "nbformat": 4,
 "nbformat_minor": 5
}
