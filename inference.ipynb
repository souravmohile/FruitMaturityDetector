{
  "cells": [
    {
      "cell_type": "markdown",
      "id": "UkmMOysIdlZB",
      "metadata": {
        "id": "UkmMOysIdlZB"
      },
      "source": [
        "Imports"
      ]
    },
    {
      "cell_type": "code",
      "execution_count": null,
      "id": "td_6KMKTsGym",
      "metadata": {
        "colab": {
          "base_uri": "https://localhost:8080/"
        },
        "id": "td_6KMKTsGym",
        "outputId": "e19285e2-eda3-4bab-b2a4-47e83d0cb81b"
      },
      "outputs": [],
      "source": [
        "from google.colab import drive\n",
        "drive.mount('/content/drive')"
      ]
    },
    {
      "cell_type": "code",
      "execution_count": 3,
      "id": "FeVYlHrjsN_I",
      "metadata": {
        "id": "FeVYlHrjsN_I"
      },
      "outputs": [],
      "source": [
        "pip install -qqq tensorflow\n",
        "pip install opencv-python"
      ]
    },
    {
      "cell_type": "code",
      "execution_count": 4,
      "id": "896330fb",
      "metadata": {
        "id": "896330fb"
      },
      "outputs": [],
      "source": [
        "import cv2\n",
        "from keras.models import load_model\n",
        "from keras.applications.vgg16 import preprocess_input\n",
        "import numpy as np"
      ]
    },
    {
      "cell_type": "markdown",
      "id": "d714tN-egWcY",
      "metadata": {
        "id": "d714tN-egWcY"
      },
      "source": [
        "Load model"
      ]
    },
    {
      "cell_type": "code",
      "execution_count": null,
      "id": "yfrNZZ3Xdkbj",
      "metadata": {
        "colab": {
          "base_uri": "https://localhost:8080/"
        },
        "id": "yfrNZZ3Xdkbj",
        "outputId": "67011c73-bf4b-4f7a-8294-3bd9875b4c74"
      },
      "outputs": [],
      "source": [
        "# Load the trained model\n",
        "model = load_model('path/fruit_classifier.h5')"
      ]
    },
    {
      "cell_type": "markdown",
      "id": "zxrALOTHgXyC",
      "metadata": {
        "id": "zxrALOTHgXyC"
      },
      "source": [
        "Define classes"
      ]
    },
    {
      "cell_type": "code",
      "execution_count": 6,
      "id": "3UyQEKp5eAN3",
      "metadata": {
        "id": "3UyQEKp5eAN3"
      },
      "outputs": [],
      "source": [
        "# Define classes\n",
        "class_labels = ['Apple Overripe', 'Apple Ripe', 'Apple Unripe', 'Banana Overripe', 'Banana Ripe', 'Banana Unripe', 'Orange Overripe', 'Orange Ripe', 'Orange Underripe', 'Raspberry Overripe', 'Raspberry Ripe', 'Raspberry Underripe', 'Strawberry Overripe', 'Strawberry Ripe', 'Strawberry Underripe']"
      ]
    },
    {
      "cell_type": "markdown",
      "id": "vR2fSOpEgau3",
      "metadata": {
        "id": "vR2fSOpEgau3"
      },
      "source": [
        "Preprocess image"
      ]
    },
    {
      "cell_type": "code",
      "execution_count": 7,
      "id": "nQD3R-gobuEA",
      "metadata": {
        "id": "nQD3R-gobuEA"
      },
      "outputs": [],
      "source": [
        "def preprocess_image(image_path):\n",
        "    image = cv2.imread(image_path)\n",
        "    image = cv2.resize(image, (224, 224))\n",
        "    image = preprocess_input(np.expand_dims(image, axis=0))\n",
        "    return image"
      ]
    },
    {
      "cell_type": "markdown",
      "id": "bnIyzmqJgDga",
      "metadata": {
        "id": "bnIyzmqJgDga"
      },
      "source": [
        "Classify uploaded image of fruit"
      ]
    },
    {
      "cell_type": "code",
      "execution_count": 8,
      "id": "Hcg6y1wkfHsR",
      "metadata": {
        "id": "Hcg6y1wkfHsR"
      },
      "outputs": [],
      "source": [
        "# With this function we can test the predictions for individually uploaded images\n",
        "def classify_image(image_path):\n",
        "    image = preprocess_image(image_path)\n",
        "    predictions = model.predict(image)\n",
        "    predicted_class = class_labels[np.argmax(predictions)]\n",
        "    confidence = np.max(predictions)\n",
        "    return predicted_class, confidence"
      ]
    },
    {
      "cell_type": "code",
      "execution_count": null,
      "id": "SuoXmF4wuBts",
      "metadata": {
        "colab": {
          "base_uri": "https://localhost:8080/"
        },
        "id": "SuoXmF4wuBts",
        "outputId": "9419c27e-6313-4cbc-b5ae-a8a67c1d31f0"
      },
      "outputs": [],
      "source": [
        "classify_image('path_to_individual_image')"
      ]
    },
    {
      "cell_type": "markdown",
      "id": "YzZm9q8xgAFC",
      "metadata": {
        "id": "YzZm9q8xgAFC"
      },
      "source": [
        "Real time classification of fruits"
      ]
    },
    {
      "cell_type": "code",
      "execution_count": 16,
      "id": "Bte1mACefLum",
      "metadata": {
        "id": "Bte1mACefLum"
      },
      "outputs": [],
      "source": [
        "def real_time_classification():\n",
        "    cap = cv2.VideoCapture(0)\n",
        "\n",
        "    while True:\n",
        "        ret, frame = cap.read()\n",
        "        if not ret:\n",
        "            break\n",
        "\n",
        "        # Preprocess frame\n",
        "        resized_frame = cv2.resize(frame, (224, 224))\n",
        "        preprocessed_frame = preprocess_input(np.expand_dims(resized_frame, axis=0))\n",
        "\n",
        "        # Predict\n",
        "        predictions = model.predict(preprocessed_frame)\n",
        "        predicted_class = class_labels[np.argmax(predictions)]\n",
        "\n",
        "        # Display result\n",
        "        cv2.putText(\n",
        "            frame, f\"Prediction: {predicted_class}\", (10, 30),\n",
        "            cv2.FONT_HERSHEY_SIMPLEX, 1, (0, 255, 0), 2\n",
        "        )\n",
        "        cv2.imshow('Real-Time Classification', frame)\n",
        "\n",
        "        if cv2.waitKey(1) & 0xFF == ord('q'):\n",
        "            break\n",
        "\n",
        "    cap.release()\n",
        "    cv2.destroyAllWindows()"
      ]
    },
    {
      "cell_type": "code",
      "execution_count": 15,
      "id": "1lfOjPxn2TRG",
      "metadata": {
        "id": "1lfOjPxn2TRG"
      },
      "outputs": [],
      "source": [
        "# Run the real time classification\n",
        "real_time_classification()"
      ]
    }
  ],
  "metadata": {
    "colab": {
      "provenance": []
    },
    "kernelspec": {
      "display_name": "Python 3",
      "name": "python3"
    },
    "language_info": {
      "codemirror_mode": {
        "name": "ipython",
        "version": 3
      },
      "file_extension": ".py",
      "mimetype": "text/x-python",
      "name": "python",
      "nbconvert_exporter": "python",
      "pygments_lexer": "ipython3",
      "version": "3.9.12"
    }
  },
  "nbformat": 4,
  "nbformat_minor": 5
}
